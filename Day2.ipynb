{
 "cells": [
  {
   "cell_type": "markdown",
   "id": "f0ad6c8c",
   "metadata": {},
   "source": [
    "**and**  \n",
    "True if both are True otherwise False  \n",
    "\n",
    "True and True = True  \n",
    "True and False = False  \n",
    "False and True = False  \n",
    "False and False = False  \n",
    "\n",
    "\n",
    "**or**  \n",
    "True if one of them is True otherwise  False  \n",
    "\n",
    "True or True = True  \n",
    "True or False = True  \n",
    "False or True = True  \n",
    "False or False = False  \n"
   ]
  },
  {
   "cell_type": "code",
   "execution_count": null,
   "id": "88571837",
   "metadata": {},
   "outputs": [],
   "source": []
  },
  {
   "cell_type": "code",
   "execution_count": null,
   "id": "9bd2e5d2",
   "metadata": {},
   "outputs": [],
   "source": []
  },
  {
   "cell_type": "code",
   "execution_count": null,
   "id": "a66fd0a5",
   "metadata": {},
   "outputs": [],
   "source": []
  }
 ],
 "metadata": {
  "kernelspec": {
   "display_name": "Python 3 (ipykernel)",
   "language": "python",
   "name": "python3"
  },
  "language_info": {
   "codemirror_mode": {
    "name": "ipython",
    "version": 3
   },
   "file_extension": ".py",
   "mimetype": "text/x-python",
   "name": "python",
   "nbconvert_exporter": "python",
   "pygments_lexer": "ipython3",
   "version": "3.11.2"
  }
 },
 "nbformat": 4,
 "nbformat_minor": 5
}
